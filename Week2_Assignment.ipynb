{
 "cells": [
  {
   "cell_type": "code",
   "execution_count": 149,
   "metadata": {},
   "outputs": [
    {
     "data": {
      "text/plain": [
       "{'less than high school': 0.10202002459160373,\n",
       " 'high school': 0.172352011241876,\n",
       " 'more than high school but not college': 0.24588090637625154,\n",
       " 'college': 0.47974705779026877}"
      ]
     },
     "execution_count": 149,
     "metadata": {},
     "output_type": "execute_result"
    }
   ],
   "source": [
    "def proportion_of_education():\n",
    "    import pandas as pd\n",
    "    \n",
    "    df=pd.read_csv('NISPUF17.csv')\n",
    "    x=df['EDUC1'].value_counts()\n",
    "    y=x/df['EDUC1'].count()\n",
    "    poc={\"less than high school\":y.iloc[3],\n",
    "    \"high school\":y.iloc[2],\n",
    "    \"more than high school but not college\":y.iloc[1],\n",
    "    \"college\":y.iloc[0]}\n",
    "    return poc\n",
    "proportion_of_education()"
   ]
  },
  {
   "cell_type": "code",
   "execution_count": 150,
   "metadata": {},
   "outputs": [
    {
     "data": {
      "text/plain": [
       "(1.8799187420058687, 1.5963945918878317)"
      ]
     },
     "execution_count": 150,
     "metadata": {},
     "output_type": "execute_result"
    }
   ],
   "source": [
    "def average_influenza_doses():\n",
    "    import pandas as pd\n",
    "    \n",
    "    df=pd.read_csv('NISPUF17.csv') # Reading .csv file(DataFrame) into df variable\n",
    "    CBF_01_grp=df.groupby(['CBF_01']) # Grouping the Dataframe on the basis of breastfeeding\n",
    "    xyz=CBF_01_grp['P_NUMFLU'].mean()# Finding average no.of influenza vaccine for each group and storing the series it returns into variable xyz\n",
    "    a=(xyz.iloc[0],xyz.iloc[1]) # Storing the average of influenza vaccine for children who breastfeed an who didn't into 'a'as tuple\n",
    "    return a\n",
    "average_influenza_doses()"
   ]
  },
  {
   "cell_type": "code",
   "execution_count": 151,
   "metadata": {},
   "outputs": [
    {
     "name": "stderr",
     "output_type": "stream",
     "text": [
      "<ipython-input-151-9da230e8ddc4>:6: SettingWithCopyWarning: \n",
      "A value is trying to be set on a copy of a slice from a DataFrame\n",
      "\n",
      "See the caveats in the documentation: https://pandas.pydata.org/pandas-docs/stable/user_guide/indexing.html#returning-a-view-versus-a-copy\n",
      "  df1.dropna(axis='index',how='any',inplace=True)\n"
     ]
    },
    {
     "data": {
      "text/plain": [
       "{'male': 0.009675583380762664, 'female': 0.0077918259335489565}"
      ]
     },
     "execution_count": 151,
     "metadata": {},
     "output_type": "execute_result"
    }
   ],
   "source": [
    "def chickenpox_by_sex():\n",
    "    import pandas as pd\n",
    "    \n",
    "    df=pd.read_csv('NISPUF17.csv') # Reading .csv file(DataFrame) into df variable\n",
    "    df1=df[['P_NUMVRC','HAD_CPOX','SEX']]\n",
    "    df1.dropna(axis='index',how='any',inplace=True)\n",
    "    df1= df1[df1.P_NUMVRC!= 0.0]\n",
    "    SEX_grp=df1.groupby(['SEX']) # Grouping the Dataframe on the basis of SEX\n",
    "    abc=SEX_grp['HAD_CPOX'].value_counts(normalize=True)\n",
    "    xyz=(abc.iloc[1]/abc.iloc[0],abc.iloc[4]/abc.iloc[3])\n",
    "    abc={'male':xyz[0],'female':xyz[1]}\n",
    "    return abc\n",
    "chickenpox_by_sex()"
   ]
  },
  {
   "cell_type": "code",
   "execution_count": 152,
   "metadata": {},
   "outputs": [
    {
     "data": {
      "text/plain": [
       "0.07044873460148"
      ]
     },
     "execution_count": 152,
     "metadata": {},
     "output_type": "execute_result"
    }
   ],
   "source": [
    "def corr_chickenpox():\n",
    "    import scipy.stats as stats\n",
    "    import numpy as np\n",
    "    import pandas as pd\n",
    "    df=pd.read_csv('NISPUF17.csv') # Reading .csv file(DataFrame) into df variable\n",
    "    df8=df[df['HAD_CPOX']<3]\n",
    "    df9=df8[df8['P_NUMVRC']>=0]\n",
    "    corr, pval=stats.pearsonr(df9[\"HAD_CPOX\"],df9[\"P_NUMVRC\"])\n",
    "    return corr\n",
    "corr_chickenpox()"
   ]
  },
  {
   "cell_type": "code",
   "execution_count": null,
   "metadata": {},
   "outputs": [],
   "source": []
  }
 ],
 "metadata": {
  "kernelspec": {
   "display_name": "Python 3",
   "language": "python",
   "name": "python3"
  },
  "language_info": {
   "codemirror_mode": {
    "name": "ipython",
    "version": 3
   },
   "file_extension": ".py",
   "mimetype": "text/x-python",
   "name": "python",
   "nbconvert_exporter": "python",
   "pygments_lexer": "ipython3",
   "version": "3.8.3"
  }
 },
 "nbformat": 4,
 "nbformat_minor": 4
}
